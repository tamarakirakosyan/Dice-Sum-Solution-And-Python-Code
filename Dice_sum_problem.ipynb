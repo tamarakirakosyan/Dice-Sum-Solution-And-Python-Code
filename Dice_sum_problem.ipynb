{
 "cells": [
  {
   "cell_type": "code",
   "execution_count": 2,
   "metadata": {},
   "outputs": [],
   "source": [
    "import numpy as np\n",
    "import pandas as pd"
   ]
  },
  {
   "cell_type": "code",
   "execution_count": 3,
   "metadata": {},
   "outputs": [],
   "source": [
    "dice_sides = 6"
   ]
  },
  {
   "cell_type": "code",
   "execution_count": 4,
   "metadata": {},
   "outputs": [],
   "source": [
    "def dice_sum_probs(x):\n",
    "    for i in range(2, x + 1):\n",
    "        dummy_list1 = [0] * (i * dice_sides - i + 1)\n",
    "        dummy_list2 = [0] * (i * dice_sides - i + 1)\n",
    "        dummy_list3 = [0] * (i * dice_sides - i + 1)\n",
    "        dummy_list4 = [0] * (i * dice_sides - i + 1)\n",
    "        dummy_list5 = [0] * (i * dice_sides - i + 1)\n",
    "        dummy_list6 = [0] * (i * dice_sides - i + 1)\n",
    "        if (i == 2):\n",
    "            dice_sum_counts = [1, 1, 1, 1, 1, 1]\n",
    "        for j in range(dice_sides * i - 1):\n",
    "            if j < len(dice_sum_counts):\n",
    "                dummy_list1[j] = dice_sum_counts[j]\n",
    "                dummy_list2[j + 1] = dice_sum_counts[j]\n",
    "                dummy_list3[j + 2] = dice_sum_counts[j]\n",
    "                dummy_list4[j + 3] = dice_sum_counts[j]\n",
    "                dummy_list5[j + 4] = dice_sum_counts[j]\n",
    "                dummy_list6[j + 5] = dice_sum_counts[j]\n",
    "            \n",
    "        dice_sum_counts = []\n",
    "        dice_sum_counts = [x1 + x2 + x3 + x4 + x5 + x6 for x1, x2, x3, x4, x5, x6 in zip(dummy_list1, dummy_list2, dummy_list3, dummy_list4, dummy_list5, dummy_list6)]\n",
    "        dice_sum_probs = [num / (dice_sides ** x) for num in dice_sum_counts]\n",
    "    return dice_sum_probs"
   ]
  },
  {
   "cell_type": "code",
   "execution_count": 5,
   "metadata": {},
   "outputs": [],
   "source": [
    "def create_dict_of_sums_probs(x, dice_sum_probs):\n",
    "    dict_sum_dice = dict()\n",
    "    for i in range(x * dice_sides - x + 1):\n",
    "        dict_sum_dice[i + x] = dice_sum_probs[i]\n",
    "    return dict_sum_dice"
   ]
  },
  {
   "cell_type": "code",
   "execution_count": 7,
   "metadata": {},
   "outputs": [
    {
     "data": {
      "text/plain": [
       "{4: 0.0007716049382716049,\n",
       " 5: 0.0030864197530864196,\n",
       " 6: 0.007716049382716049,\n",
       " 7: 0.015432098765432098,\n",
       " 8: 0.02700617283950617,\n",
       " 9: 0.043209876543209874,\n",
       " 10: 0.06172839506172839,\n",
       " 11: 0.08024691358024691,\n",
       " 12: 0.09645061728395062,\n",
       " 13: 0.10802469135802469,\n",
       " 14: 0.11265432098765432,\n",
       " 15: 0.10802469135802469,\n",
       " 16: 0.09645061728395062,\n",
       " 17: 0.08024691358024691,\n",
       " 18: 0.06172839506172839,\n",
       " 19: 0.043209876543209874,\n",
       " 20: 0.02700617283950617,\n",
       " 21: 0.015432098765432098,\n",
       " 22: 0.007716049382716049,\n",
       " 23: 0.0030864197530864196,\n",
       " 24: 0.0007716049382716049}"
      ]
     },
     "execution_count": 7,
     "metadata": {},
     "output_type": "execute_result"
    }
   ],
   "source": [
    "dice4_sum_probs = dice_sum_probs(4)\n",
    "dict_sum_dice4 = create_dict_of_sums_probs(4, dice15_sum_probs)\n",
    "dict_sum_dice4"
   ]
  }
 ],
 "metadata": {
  "kernelspec": {
   "display_name": "Python 3",
   "language": "python",
   "name": "python3"
  },
  "language_info": {
   "codemirror_mode": {
    "name": "ipython",
    "version": 3
   },
   "file_extension": ".py",
   "mimetype": "text/x-python",
   "name": "python",
   "nbconvert_exporter": "python",
   "pygments_lexer": "ipython3",
   "version": "3.7.1"
  }
 },
 "nbformat": 4,
 "nbformat_minor": 4
}
